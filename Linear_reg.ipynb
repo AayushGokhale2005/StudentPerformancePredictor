{
  "nbformat": 4,
  "nbformat_minor": 0,
  "metadata": {
    "colab": {
      "provenance": [],
      "authorship_tag": "ABX9TyNpKvZjqRH2tARHqpqlQ11W",
      "include_colab_link": true
    },
    "kernelspec": {
      "name": "python3",
      "display_name": "Python 3"
    },
    "language_info": {
      "name": "python"
    }
  },
  "cells": [
    {
      "cell_type": "markdown",
      "metadata": {
        "id": "view-in-github",
        "colab_type": "text"
      },
      "source": [
        "<a href=\"https://colab.research.google.com/github/AayushGokhale2005/StudentPerformancePredictor/blob/main/Linear_reg.ipynb\" target=\"_parent\"><img src=\"https://colab.research.google.com/assets/colab-badge.svg\" alt=\"Open In Colab\"/></a>"
      ]
    },
    {
      "cell_type": "code",
      "execution_count": null,
      "metadata": {
        "id": "GSTGnngO-5Hs"
      },
      "outputs": [],
      "source": [
        "import pandas as pd\n",
        "import numpy as np\n",
        "from sklearn import linear_model\n",
        "from sklearn.utils import shuffle\n",
        "from sklearn.model_selection import train_test_split  # Import train_test_split\n",
        "import matplotlib.pyplot as plt\n",
        "import seaborn as sns\n",
        "\n",
        "# Load data\n",
        "data = pd.read_csv(\"student-mat.csv\", sep=\";\")\n",
        "\n",
        "data = data[[\"G1\", \"G2\", \"G3\", \"studytime\", \"failures\", \"absences\"]]\n",
        "print(data.head())\n",
        "\n",
        "predict = \"G3\"\n",
        "x = np.array(data.drop([predict], axis=1))\n",
        "y = np.array(data[predict])\n",
        "\n",
        "x_train, x_test, y_train, y_test = train_test_split(x, y, test_size=0.1)\n",
        "\n",
        "linear = linear_model.LinearRegression()\n",
        "linear.fit(x_train, y_train)\n",
        "\n",
        "acc = linear.score(x_test, y_test)\n",
        "print(\"Accuracy:\", acc)\n",
        "\n",
        "print(\"Coef:\", linear.coef_)\n",
        "print(\"Intercept:\", linear.intercept_)\n",
        "\n",
        "\n",
        "#visualising findings\n",
        "predictions = linear.predict(x_test)\n",
        "\n",
        "plt.scatter(y_test, predictions)\n",
        "plt.xlabel(\"True Values (G3)\")\n",
        "plt.ylabel(\"Predicted Values (G3)\")\n",
        "\n",
        "plt.plot([min(y_test), max(y_test)], [min(y_test), max(y_test)], color='red')\n",
        "plt.title(\"Actual vs Predicted Values\")\n",
        "plt.show()\n",
        "\n",
        "residuals = y_test - predictions\n",
        "\n",
        "#scatter plot\n",
        "plt.scatter(predictions, residuals)\n",
        "plt.xlabel(\"Predicted Values\")\n",
        "plt.ylabel(\"Residuals\")\n",
        "plt.hlines(y=0, xmin=min(predictions), xmax=max(predictions), colors='red')  # Line at residual = 0\n",
        "plt.title(\"Residual Plot\")\n",
        "plt.show()\n",
        "\n",
        "corr_matrix = data.corr()\n",
        "\n",
        "#  heatmap\n",
        "sns.heatmap(corr_matrix, annot=True, cmap='coolwarm')\n",
        "\n",
        "plt.title(\"Correlation Heatmap\")\n",
        "plt.show()\n",
        "\n",
        "\n",
        "coef = linear.coef_\n",
        "features = data.columns[:-1]\n",
        "\n",
        "#bar chart\n",
        "plt.bar(features, coef)\n",
        "plt.xlabel(\"Features\")\n",
        "plt.ylabel(\"Coefficient\")\n",
        "plt.title(\"Feature Importance\")\n",
        "plt.show()\n",
        "\n",
        "# histogram\n",
        "plt.hist(data['G3'], bins=10, edgecolor='black')\n",
        "plt.xlabel(\"Final Grade (G3)\")\n",
        "plt.ylabel(\"Frequency\")\n",
        "plt.title(\"Distribution of Final Grades\")\n",
        "plt.show()"
      ]
    }
  ]
}